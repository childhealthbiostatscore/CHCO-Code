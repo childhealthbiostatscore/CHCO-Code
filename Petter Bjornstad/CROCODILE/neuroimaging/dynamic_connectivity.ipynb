{
 "cells": [
  {
   "cell_type": "code",
   "execution_count": null,
   "id": "7b14bda5-dde2-4c80-a0fa-91c6fcc3af5f",
   "metadata": {},
   "outputs": [],
   "source": [
    "import os\n",
    "from glob import glob as lsdir\n",
    "import glob\n",
    "import numpy as np\n",
    "import pandas as pd\n",
    "from nltools.mask import create_sphere, expand_mask\n",
    "from nltools.data import Brain_Data, Adjacency\n",
    "from nilearn.plotting import plot_stat_map\n",
    "\n",
    "import timecorr as tc\n",
    "import seaborn as sns\n",
    "import holoviews as hv\n",
    "from holoviews import opts, dim\n",
    "\n",
    "from bokeh.io import curdoc\n",
    "from bokeh.layouts import layout\n",
    "from bokeh.models import Slider, Button\n",
    "from bokeh.embed import file_html\n",
    "from bokeh.resources import CDN\n",
    "import panel as pn\n",
    "import IPython\n",
    "import datalad.api as dl"
   ]
  },
  {
   "cell_type": "code",
   "execution_count": null,
   "id": "6df30a93-1474-4c6c-a644-c145abde8f94",
   "metadata": {},
   "outputs": [],
   "source": [
    "data_dir = '/Users/timvigers/Documents/Work/Neuroimaging/Examples/Sherlock'\n",
    "for scan in ['Part1', 'Part2']:\n",
    "    file_list = glob.glob(os.path.join(\n",
    "        data_dir, 'fmriprep', '*', 'func', f'*crop*{scan}*hdf5'))\n",
    "    for f in file_list:\n",
    "        sub = os.path.basename(f).split('_')[0]\n",
    "        print(sub)\n",
    "        data = Brain_Data(f)\n",
    "        roi = data.extract_roi(mask)\n",
    "        pd.DataFrame(roi.T).to_csv(os.path.join(os.path.dirname(\n",
    "            f), f\"{sub}_{scan}_Average_ROI_n50.csv\"), index=False)"
   ]
  }
 ],
 "metadata": {
  "kernelspec": {
   "display_name": "Python 3 (ipykernel)",
   "language": "python",
   "name": "python3"
  },
  "language_info": {
   "codemirror_mode": {
    "name": "ipython",
    "version": 3
   },
   "file_extension": ".py",
   "mimetype": "text/x-python",
   "name": "python",
   "nbconvert_exporter": "python",
   "pygments_lexer": "ipython3",
   "version": "3.10.8"
  }
 },
 "nbformat": 4,
 "nbformat_minor": 5
}
