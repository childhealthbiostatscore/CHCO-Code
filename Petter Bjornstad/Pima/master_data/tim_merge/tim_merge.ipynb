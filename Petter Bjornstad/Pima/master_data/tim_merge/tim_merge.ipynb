{
 "metadata": {
  "language_info": {
   "codemirror_mode": {
    "name": "ipython",
    "version": 3
   },
   "file_extension": ".py",
   "mimetype": "text/x-python",
   "name": "python",
   "nbconvert_exporter": "python",
   "pygments_lexer": "ipython3",
   "version": "3.8.8"
  },
  "orig_nbformat": 2,
  "kernelspec": {
   "name": "python38864bit67690c2efdc84c93898fca054ddadf97",
   "display_name": "Python 3.8.8 64-bit"
  },
  "metadata": {
   "interpreter": {
    "hash": "aee8b7b246df8f9039afb4144a1f6fd8d2ca17a180786b69acc140d282b71a49"
   }
  }
 },
 "nbformat": 4,
 "nbformat_minor": 2,
 "cells": [
  {
   "cell_type": "code",
   "execution_count": 8,
   "metadata": {},
   "outputs": [],
   "source": [
    "import pandas as pd\n",
    "import seaborn as sns\n",
    "wd = \"/Volumes/PEDS/RI Biostatistics Core/Shared/Shared Projects/Laura/Peds Endo/Petter Bjornstad/Pima/Master data/Raw data/\"\n",
    "# wd = \"path/to/Laura's/folder\""
   ]
  },
  {
   "source": [
    "# Vital Status\n",
    "## Raw Data Info"
   ],
   "cell_type": "markdown",
   "metadata": {}
  },
  {
   "cell_type": "code",
   "execution_count": 37,
   "metadata": {},
   "outputs": [],
   "source": [
    "# Read csv and parse dates\n",
    "vital_status = pd.read_csv(wd+\"NelsonVitalStatusDEC_DATA_2021-02-04_1616.csv\",parse_dates=True)\n",
    "# Combine rows for relevant variables\n",
    "var_list = ['esrd_start_date_est','physiciancr']\n",
    "for v in var_list:\n",
    "    vital_status.groupby('record_id')[v].max()"
   ]
  },
  {
   "cell_type": "code",
   "execution_count": 35,
   "metadata": {},
   "outputs": [
    {
     "output_type": "stream",
     "name": "stdout",
     "text": [
      "<class 'pandas.core.frame.DataFrame'>\nRangeIndex: 583 entries, 0 to 582\nData columns (total 25 columns):\n #   Column                                 Non-Null Count  Dtype  \n---  ------                                 --------------  -----  \n 0   record_id                              583 non-null    int64  \n 1   redcap_event_name                      583 non-null    object \n 2   redcap_repeat_instrument               1 non-null      object \n 3   redcap_repeat_instance                 4 non-null      float64\n 4   esrd_start_date                        93 non-null     object \n 5   esrd_start_date_est                    93 non-null     float64\n 6   esrd_type                              93 non-null     float64\n 7   esrd_is_transplanted                   93 non-null     float64\n 8   esrd_diagnosis                         93 non-null     float64\n 9   esrd_complete_date                     93 non-null     object \n 10  esrd_initials                          93 non-null     object \n 11  end_stage_renal_disease_form_complete  373 non-null    float64\n 12  transplant_date                        3 non-null      object \n 13  transplant_complete_date               3 non-null      object \n 14  transplant_initials                    3 non-null      object \n 15  transplant_form_complete               3 non-null      float64\n 16  dod                                    185 non-null    object \n 17  codunerlying                           170 non-null    object \n 18  coddrunerlying                         155 non-null    object \n 19  physiciancr                            175 non-null    float64\n 20  initials                               181 non-null    object \n 21  death_comments                         5 non-null      object \n 22  death_notice_form_complete             206 non-null    float64\n 23  comment                                1 non-null      object \n 24  comment_form_complete                  4 non-null      float64\ndtypes: float64(10), int64(1), object(14)\nmemory usage: 114.0+ KB\n"
     ]
    }
   ],
   "source": [
    "vital_status.info()"
   ]
  },
  {
   "cell_type": "code",
   "execution_count": 27,
   "metadata": {},
   "outputs": [
    {
     "output_type": "error",
     "ename": "NameError",
     "evalue": "name 'nan' is not defined",
     "traceback": [
      "\u001b[0;31m---------------------------------------------------------------------------\u001b[0m",
      "\u001b[0;31mNameError\u001b[0m                                 Traceback (most recent call last)",
      "\u001b[0;32m<ipython-input-27-a744929555f6>\u001b[0m in \u001b[0;36m<module>\u001b[0;34m\u001b[0m\n\u001b[0;32m----> 1\u001b[0;31m \u001b[0mmax\u001b[0m\u001b[0;34m(\u001b[0m\u001b[0;36m10\u001b[0m\u001b[0;34m,\u001b[0m\u001b[0mnan\u001b[0m\u001b[0;34m)\u001b[0m\u001b[0;34m\u001b[0m\u001b[0;34m\u001b[0m\u001b[0m\n\u001b[0m",
      "\u001b[0;31mNameError\u001b[0m: name 'nan' is not defined"
     ]
    }
   ],
   "source": [
    "max(10,nan)"
   ]
  },
  {
   "cell_type": "code",
   "execution_count": null,
   "metadata": {},
   "outputs": [],
   "source": []
  }
 ]
}