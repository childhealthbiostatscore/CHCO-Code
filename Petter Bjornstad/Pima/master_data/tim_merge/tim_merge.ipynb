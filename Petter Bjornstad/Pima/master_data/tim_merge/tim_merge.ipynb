{
 "metadata": {
  "language_info": {
   "codemirror_mode": {
    "name": "ipython",
    "version": 3
   },
   "file_extension": ".py",
   "mimetype": "text/x-python",
   "name": "python",
   "nbconvert_exporter": "python",
   "pygments_lexer": "ipython3",
   "version": "3.8.8"
  },
  "orig_nbformat": 2,
  "kernelspec": {
   "name": "python38864bit67690c2efdc84c93898fca054ddadf97",
   "display_name": "Python 3.8.8 64-bit"
  },
  "metadata": {
   "interpreter": {
    "hash": "aee8b7b246df8f9039afb4144a1f6fd8d2ca17a180786b69acc140d282b71a49"
   }
  }
 },
 "nbformat": 4,
 "nbformat_minor": 2,
 "cells": [
  {
   "cell_type": "code",
   "execution_count": 8,
   "metadata": {},
   "outputs": [],
   "source": [
    "import pandas as pd\n",
    "import seaborn as sns\n",
    "wd = \"/Volumes/PEDS/RI Biostatistics Core/Shared/Shared Projects/Laura/Peds Endo/Petter Bjornstad/Pima/Master data/Raw data/\"\n",
    "# wd = \"path/to/Laura's/folder\""
   ]
  },
  {
   "source": [
    "# Vital Status\n",
    "## Raw Data Info"
   ],
   "cell_type": "markdown",
   "metadata": {}
  },
  {
   "cell_type": "code",
   "execution_count": 22,
   "metadata": {},
   "outputs": [
    {
     "output_type": "execute_result",
     "data": {
      "text/plain": [
       "0           NaN\n",
       "1           NaN\n",
       "2    2013-07-15\n",
       "3           NaN\n",
       "4           NaN\n",
       "5           NaN\n",
       "6    2005-11-18\n",
       "7           NaN\n",
       "8           NaN\n",
       "9           NaN\n",
       "Name: esrd_start_date, dtype: object"
      ]
     },
     "metadata": {},
     "execution_count": 22
    }
   ],
   "source": [
    "# Read csv and parse dates\n",
    "vital_status = pd.read_csv(wd+\"NelsonVitalStatusDEC_DATA_2021-02-04_1616.csv\",parse_dates=True)\n",
    "# Convert to categorical \n",
    "cat_vars = ['record_id','redcap_event_name','redcap_repeat_instrument','redcap_repeat_instance']\n",
    "for column in cat_vars:\n",
    "    vital_status[column] = vital_status[column].astype('category')\n",
    "vital_status['esrd_start_date'].head(10)"
   ]
  },
  {
   "cell_type": "code",
   "execution_count": 21,
   "metadata": {},
   "outputs": [
    {
     "output_type": "execute_result",
     "data": {
      "text/plain": [
       "  record_id redcap_event_name redcap_repeat_instrument redcap_repeat_instance  \\\n",
       "0        98        esrd_arm_1                      NaN                    NaN   \n",
       "1        98       death_arm_1                      NaN                    NaN   \n",
       "2       368        esrd_arm_1                      NaN                    NaN   \n",
       "3       368       death_arm_1                      NaN                    NaN   \n",
       "4       370        esrd_arm_1                      NaN                    NaN   \n",
       "\n",
       "  esrd_start_date  esrd_start_date_est  esrd_type  esrd_is_transplanted  \\\n",
       "0             NaN                  NaN        NaN                   NaN   \n",
       "1             NaN                  NaN        NaN                   NaN   \n",
       "2      2013-07-15                  1.0        1.0                   0.0   \n",
       "3             NaN                  NaN        NaN                   NaN   \n",
       "4             NaN                  NaN        NaN                   NaN   \n",
       "\n",
       "   esrd_diagnosis esrd_complete_date  ... transplant_form_complete  \\\n",
       "0             NaN                NaN  ...                      NaN   \n",
       "1             NaN                NaN  ...                      NaN   \n",
       "2             1.0         2019-12-09  ...                      NaN   \n",
       "3             NaN                NaN  ...                      NaN   \n",
       "4             NaN                NaN  ...                      NaN   \n",
       "\n",
       "          dod codunerlying coddrunerlying physiciancr  initials  \\\n",
       "0         NaN          NaN            NaN         NaN       NaN   \n",
       "1  1999-10-07       414.9X         414.0X         2.0        LJ   \n",
       "2         NaN          NaN            NaN         NaN       NaN   \n",
       "3  2014-09-14       396.0X         396.0X         2.0        LJ   \n",
       "4         NaN          NaN            NaN         NaN       NaN   \n",
       "\n",
       "  death_comments death_notice_form_complete comment  comment_form_complete  \n",
       "0            NaN                        NaN     NaN                    NaN  \n",
       "1            NaN                        2.0     NaN                    NaN  \n",
       "2            NaN                        NaN     NaN                    NaN  \n",
       "3            NaN                        2.0     NaN                    NaN  \n",
       "4            NaN                        NaN     NaN                    NaN  \n",
       "\n",
       "[5 rows x 25 columns]"
      ],
      "text/html": "<div>\n<style scoped>\n    .dataframe tbody tr th:only-of-type {\n        vertical-align: middle;\n    }\n\n    .dataframe tbody tr th {\n        vertical-align: top;\n    }\n\n    .dataframe thead th {\n        text-align: right;\n    }\n</style>\n<table border=\"1\" class=\"dataframe\">\n  <thead>\n    <tr style=\"text-align: right;\">\n      <th></th>\n      <th>record_id</th>\n      <th>redcap_event_name</th>\n      <th>redcap_repeat_instrument</th>\n      <th>redcap_repeat_instance</th>\n      <th>esrd_start_date</th>\n      <th>esrd_start_date_est</th>\n      <th>esrd_type</th>\n      <th>esrd_is_transplanted</th>\n      <th>esrd_diagnosis</th>\n      <th>esrd_complete_date</th>\n      <th>...</th>\n      <th>transplant_form_complete</th>\n      <th>dod</th>\n      <th>codunerlying</th>\n      <th>coddrunerlying</th>\n      <th>physiciancr</th>\n      <th>initials</th>\n      <th>death_comments</th>\n      <th>death_notice_form_complete</th>\n      <th>comment</th>\n      <th>comment_form_complete</th>\n    </tr>\n  </thead>\n  <tbody>\n    <tr>\n      <th>0</th>\n      <td>98</td>\n      <td>esrd_arm_1</td>\n      <td>NaN</td>\n      <td>NaN</td>\n      <td>NaN</td>\n      <td>NaN</td>\n      <td>NaN</td>\n      <td>NaN</td>\n      <td>NaN</td>\n      <td>NaN</td>\n      <td>...</td>\n      <td>NaN</td>\n      <td>NaN</td>\n      <td>NaN</td>\n      <td>NaN</td>\n      <td>NaN</td>\n      <td>NaN</td>\n      <td>NaN</td>\n      <td>NaN</td>\n      <td>NaN</td>\n      <td>NaN</td>\n    </tr>\n    <tr>\n      <th>1</th>\n      <td>98</td>\n      <td>death_arm_1</td>\n      <td>NaN</td>\n      <td>NaN</td>\n      <td>NaN</td>\n      <td>NaN</td>\n      <td>NaN</td>\n      <td>NaN</td>\n      <td>NaN</td>\n      <td>NaN</td>\n      <td>...</td>\n      <td>NaN</td>\n      <td>1999-10-07</td>\n      <td>414.9X</td>\n      <td>414.0X</td>\n      <td>2.0</td>\n      <td>LJ</td>\n      <td>NaN</td>\n      <td>2.0</td>\n      <td>NaN</td>\n      <td>NaN</td>\n    </tr>\n    <tr>\n      <th>2</th>\n      <td>368</td>\n      <td>esrd_arm_1</td>\n      <td>NaN</td>\n      <td>NaN</td>\n      <td>2013-07-15</td>\n      <td>1.0</td>\n      <td>1.0</td>\n      <td>0.0</td>\n      <td>1.0</td>\n      <td>2019-12-09</td>\n      <td>...</td>\n      <td>NaN</td>\n      <td>NaN</td>\n      <td>NaN</td>\n      <td>NaN</td>\n      <td>NaN</td>\n      <td>NaN</td>\n      <td>NaN</td>\n      <td>NaN</td>\n      <td>NaN</td>\n      <td>NaN</td>\n    </tr>\n    <tr>\n      <th>3</th>\n      <td>368</td>\n      <td>death_arm_1</td>\n      <td>NaN</td>\n      <td>NaN</td>\n      <td>NaN</td>\n      <td>NaN</td>\n      <td>NaN</td>\n      <td>NaN</td>\n      <td>NaN</td>\n      <td>NaN</td>\n      <td>...</td>\n      <td>NaN</td>\n      <td>2014-09-14</td>\n      <td>396.0X</td>\n      <td>396.0X</td>\n      <td>2.0</td>\n      <td>LJ</td>\n      <td>NaN</td>\n      <td>2.0</td>\n      <td>NaN</td>\n      <td>NaN</td>\n    </tr>\n    <tr>\n      <th>4</th>\n      <td>370</td>\n      <td>esrd_arm_1</td>\n      <td>NaN</td>\n      <td>NaN</td>\n      <td>NaN</td>\n      <td>NaN</td>\n      <td>NaN</td>\n      <td>NaN</td>\n      <td>NaN</td>\n      <td>NaN</td>\n      <td>...</td>\n      <td>NaN</td>\n      <td>NaN</td>\n      <td>NaN</td>\n      <td>NaN</td>\n      <td>NaN</td>\n      <td>NaN</td>\n      <td>NaN</td>\n      <td>NaN</td>\n      <td>NaN</td>\n      <td>NaN</td>\n    </tr>\n  </tbody>\n</table>\n<p>5 rows × 25 columns</p>\n</div>"
     },
     "metadata": {},
     "execution_count": 21
    }
   ],
   "source": [
    "vital_status.head()"
   ]
  },
  {
   "cell_type": "code",
   "execution_count": null,
   "metadata": {},
   "outputs": [],
   "source": []
  }
 ]
}