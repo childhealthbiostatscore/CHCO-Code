{
 "cells": [
  {
   "cell_type": "code",
   "execution_count": 1,
   "id": "e0db6a9a-eb87-46a7-9ba4-665e043e1135",
   "metadata": {},
   "outputs": [],
   "source": [
    "import pandas as pd\n",
    "import seaborn as sns\n",
    "import matplotlib.pyplot as plt\n",
    "wd = \"E:\\\\Petter Bjornstad\\\\Pima\\\\Master data\\\\Raw data\\\\\"\n",
    "# wd = \"path/to/Laura's/folder\""
   ]
  },
  {
   "cell_type": "markdown",
   "id": "f250c89e-b878-4178-a726-1b8b24a011e3",
   "metadata": {},
   "source": [
    "# Vital Status"
   ]
  },
  {
   "cell_type": "code",
   "execution_count": 5,
   "id": "ad289873-d7c9-481c-bfa7-97ccb7fe1e00",
   "metadata": {},
   "outputs": [
    {
     "name": "stdout",
     "output_type": "stream",
     "text": [
      "    esrd_start_date         dod\n",
      "0              None  1999-10-07\n",
      "1        2013-07-15  2014-09-14\n",
      "2              None  1999-09-18\n",
      "3        2005-11-18  2010-07-15\n",
      "4              None  2001-05-05\n",
      "..              ...         ...\n",
      "206            None  2005-06-18\n",
      "207            None  2017-01-24\n",
      "208      2018-11-07        None\n",
      "209      2012-02-10  2014-01-26\n",
      "210            None  2014-03-05\n",
      "\n",
      "[211 rows x 2 columns]\n"
     ]
    }
   ],
   "source": [
    "# Import\n",
    "vital_status = pd.read_csv(wd+'NelsonVitalStatusDEC_DATA_2021-02-04_1616.csv')\n",
    "vital_status.head()\n",
    "\n",
    "# Delete empty rows\n",
    "vital_status = vital_status[vital_status['end_stage_renal_disease_form_complete']!=0]\n",
    "# Collapse rows - get first non-NA element in each column by record ID\n",
    "vital_status = vital_status.groupby('record_id',as_index=False).first()\n",
    "# Get columns of interest - ask Rob and Helen for a list of these\n",
    "vital_status = vital_status[['esrd_start_date','dod']]\n",
    "\n",
    "print(vital_status)"
   ]
  },
  {
   "cell_type": "markdown",
   "id": "8057e4f7-96cc-4737-9e51-6c5c171f628d",
   "metadata": {},
   "source": [
    "# Height"
   ]
  },
  {
   "cell_type": "code",
   "execution_count": 28,
   "id": "cfb0e15a-2f7a-4ff5-8288-673769f0de12",
   "metadata": {},
   "outputs": [],
   "source": [
    "def get_ht(df):\n",
    "    # Convert record id to categorical \n",
    "    df['record_id'] = df['record_id'].astype(\"category\")\n",
    "    # Index by id and redcap event\n",
    "    df = df.set_index(['record_id','redcap_event_name'])\n",
    "    # Find height and date columns\n",
    "    ht_cols = [col for col in df.columns if col in ['height']]  \n",
    "    date_cols = [col for col in df.columns if 'visitdate' in col and \"_\" not in col]\n",
    "    # Get all dates\n",
    "    for d in range(len(date_cols)-1):\n",
    "        df[date_cols[0]] = df[date_cols[0]].fillna(df[date_cols[d]])\n",
    "    ht = df[[date_cols[0]]+ht_cols]\n",
    "    # Get all \n",
    "    # Drop completely missing rows and columns\n",
    "    df = ht.dropna(axis=0,subset=ht_cols,how='all').dropna(axis=1,how='all')\n",
    "    # Reindex by name and date\n",
    "    df.reset_index(level=1,drop=True,inplace=True)\n",
    "    df.rename(columns={df.columns[0]:'date'},inplace=True)\n",
    "    df.set_index('date',append=True,inplace=True)\n",
    "    # Done\n",
    "    return(df)\n",
    "def ht_lineplot(df,ax):\n",
    "    # Sort by id then date\n",
    "    df.sort_index(inplace=True)\n",
    "    # Visit number from date\n",
    "    df['visit_num'] = df.groupby('record_id').cumcount()+1\n",
    "    df.reset_index(inplace=True)\n",
    "    return(sns.lineplot(x=\"visit_num\", y=\"height\",hue=\"record_id\",ax=ax,data=df).get_legend().remove())\n",
    "def ht_boxplot(df,ax):\n",
    "    df.sort_index(inplace=True)\n",
    "    # Visit number from date\n",
    "    df['visit_num'] = df.groupby('record_id').cumcount()+1\n",
    "    df.reset_index(inplace=True)\n",
    "    return(sns.boxplot(x='record_id',y=\"height\",ax=ax,data=df))"
   ]
  },
  {
   "cell_type": "markdown",
   "id": "2a7a810c-f6e9-42d1-aac7-21616503202f",
   "metadata": {},
   "source": [
    "# Group 4"
   ]
  },
  {
   "cell_type": "code",
   "execution_count": 30,
   "id": "f8d3d2b4-7ee6-41b8-affc-03c6ab2deb06",
   "metadata": {},
   "outputs": [
    {
     "data": {
      "text/plain": [
       "<AxesSubplot:xlabel='record_id', ylabel='height'>"
      ]
     },
     "execution_count": 30,
     "metadata": {},
     "output_type": "execute_result"
    },
    {
     "data": {
      "image/png": "[encoded data removed]",
      "text/plain": [
       "<Figure size 432x288 with 2 Axes>"
      ]
     },
     "metadata": {
      "needs_background": "light"
     },
     "output_type": "display_data"
    }
   ],
   "source": [
    "group4 = pd.read_csv(wd+'Group4UofMRemodel112_DATA_2021-02-04_1617.csv',low_memory=False).dropna(axis=1,how='all')\n",
    "#print(group4)\n",
    "#group4.loc[:,\"height\"]\n",
    "h = get_ht(group4)\n",
    "# Plot\n",
    "fig, ax =plt.subplots(1,2)\n",
    "ht_lineplot(h,ax=ax[0])\n",
    "ht_boxplot(h,ax=ax[1])"
   ]
  },
  {
   "cell_type": "markdown",
   "id": "2ca556d5-8d93-416b-9b7f-42d45d810dab",
   "metadata": {},
   "source": [
    "# Ficoll"
   ]
  },
  {
   "cell_type": "code",
   "execution_count": 31,
   "id": "a5c7b02f-cd0c-4544-b5af-fe09670d83e7",
   "metadata": {},
   "outputs": [
    {
     "data": {
      "text/plain": [
       "<AxesSubplot:xlabel='record_id', ylabel='height'>"
      ]
     },
     "execution_count": 31,
     "metadata": {},
     "output_type": "execute_result"
    },
    {
     "data": {
      "image/png": "[encoded data removed]",
      "text/plain": [
       "<Figure size 432x288 with 2 Axes>"
      ]
     },
     "metadata": {
      "needs_background": "light"
     },
     "output_type": "display_data"
    }
   ],
   "source": [
    "ficoll = pd.read_csv(wd+'FicollUniversityOfMi_DATA_2021-02-04_1618.csv',low_memory=False).dropna(axis=1,how='all')\n",
    "h = get_ht(group4)\n",
    "# Plot\n",
    "fig, ax =plt.subplots(1,2)\n",
    "ht_lineplot(h,ax=ax[0])\n",
    "ht_boxplot(h,ax=ax[1])"
   ]
  },
  {
   "cell_type": "markdown",
   "id": "00137520-1944-402e-a311-e7c8d76bc5c6",
   "metadata": {},
   "source": [
    "# DDN"
   ]
  },
  {
   "cell_type": "code",
   "execution_count": 34,
   "id": "2bc87698-74b1-4768-899a-1b83c3fe21ea",
   "metadata": {},
   "outputs": [
    {
     "data": {
      "text/plain": [
       "<AxesSubplot:xlabel='record_id', ylabel='height'>"
      ]
     },
     "execution_count": 34,
     "metadata": {},
     "output_type": "execute_result"
    },
    {
     "data": {
      "image/png": "[encoded data removed]",
      "text/plain": [
       "<Figure size 432x288 with 2 Axes>"
      ]
     },
     "metadata": {
      "needs_background": "light"
     },
     "output_type": "display_data"
    }
   ],
   "source": [
    "ddn = pd.read_csv(wd+'Nelson13DKN151Determ_DATA_2021-02-04_1610.csv',low_memory=False).dropna(axis=1,how='all')\n",
    "h = get_ht(group4)\n",
    "# Plot\n",
    "fig, ax =plt.subplots(1,2)\n",
    "ht_lineplot(h,ax=ax[0])\n",
    "ht_boxplot(h,ax=ax[1])"
   ]
  },
  {
   "cell_type": "code",
   "execution_count": null,
   "id": "3601bcc2-272b-4fe4-b31e-5e3c5b808175",
   "metadata": {},
   "outputs": [],
   "source": []
  }
 ],
 "metadata": {
  "kernelspec": {
   "display_name": "Python 3",
   "language": "python",
   "name": "python3"
  },
  "language_info": {
   "codemirror_mode": {
    "name": "ipython",
    "version": 3
   },
   "file_extension": ".py",
   "mimetype": "text/x-python",
   "name": "python",
   "nbconvert_exporter": "python",
   "pygments_lexer": "ipython3",
   "version": "3.9.5"
  }
 },
 "nbformat": 4,
 "nbformat_minor": 5
}
