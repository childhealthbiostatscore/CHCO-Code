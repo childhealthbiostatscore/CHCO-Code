{
 "cells": [
  {
   "cell_type": "code",
   "execution_count": 10,
   "id": "e0db6a9a-eb87-46a7-9ba4-665e043e1135",
   "metadata": {},
   "outputs": [],
   "source": [
    "import pandas as pd\n",
    "import seaborn as sns\n",
    "import matplotlib.pyplot as plt\n",
    "wd = \"E:\\\\Petter Bjornstad\\\\Pima\\\\Master data\\\\Raw data\\\\\"\n",
    "# wd = \"path/to/Laura's/folder\""
   ]
  },
  {
   "cell_type": "markdown",
   "id": "f250c89e-b878-4178-a726-1b8b24a011e3",
   "metadata": {},
   "source": [
    "# Vital Status"
   ]
  },
  {
   "cell_type": "code",
   "execution_count": 16,
   "id": "ad289873-d7c9-481c-bfa7-97ccb7fe1e00",
   "metadata": {},
   "outputs": [],
   "source": [
    "# Import\n",
    "vital_status = pd.read_csv(wd+'NelsonVitalStatusDEC_DATA_2021-02-04_1616.csv')\n",
    "vital_status.head()\n",
    "\n",
    "# Delete empty rows\n",
    "vital_status = vital_status[vital_status['end_stage_renal_disease_form_complete']!=0]\n",
    "# Collapse rows - get first non-NA element in each column by record ID\n",
    "vital_status = vital_status.groupby('record_id',as_index=False).first()\n",
    "# Get columns of interest - ask Rob and Helen for a list of these\n",
    "vital_status = vital_status[['esrd_start_date','dod']]"
   ]
  },
  {
   "cell_type": "markdown",
   "id": "8057e4f7-96cc-4737-9e51-6c5c171f628d",
   "metadata": {},
   "source": [
    "# Height"
   ]
  },
  {
   "cell_type": "code",
   "execution_count": null,
   "id": "cfb0e15a-2f7a-4ff5-8288-673769f0de12",
   "metadata": {},
   "outputs": [],
   "source": []
  }
 ],
 "metadata": {
  "kernelspec": {
   "display_name": "Python 3",
   "language": "python",
   "name": "python3"
  },
  "language_info": {
   "codemirror_mode": {
    "name": "ipython",
    "version": 3
   },
   "file_extension": ".py",
   "mimetype": "text/x-python",
   "name": "python",
   "nbconvert_exporter": "python",
   "pygments_lexer": "ipython3",
   "version": "3.9.5"
  }
 },
 "nbformat": 4,
 "nbformat_minor": 5
}
