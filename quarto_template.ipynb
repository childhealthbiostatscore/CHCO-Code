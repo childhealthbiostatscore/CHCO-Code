{
 "cells": [
  {
   "cell_type": "raw",
   "id": "6d5f514b-1a51-488a-bad4-84086654f201",
   "metadata": {},
   "source": [
    "---\n",
    "title: \"Title\"\n",
    "author: \"Laura Pyle, Tim Vigers & Ye Ji Choi\"\n",
    "date: \"today\"\n",
    "date-format: long\n",
    "format:\n",
    "  html:\n",
    "    toc: true\n",
    "    toc-depth: 5\n",
    "    toc-float: true\n",
    "    code-fold: true\n",
    "    self-contained: true\n",
    "    fig-cap-location: top\n",
    "    page-layout: full\n",
    "    theme:\n",
    "      light: flatly\n",
    "      dark: darkly\n",
    "---"
   ]
  }
 ],
 "metadata": {
  "kernelspec": {
   "display_name": "Python 3 (ipykernel)",
   "language": "python",
   "name": "python3"
  },
  "language_info": {
   "codemirror_mode": {
    "name": "ipython",
    "version": 3
   },
   "file_extension": ".py",
   "mimetype": "text/x-python",
   "name": "python",
   "nbconvert_exporter": "python",
   "pygments_lexer": "ipython3",
   "version": "3.11.4"
  }
 },
 "nbformat": 4,
 "nbformat_minor": 5
}
