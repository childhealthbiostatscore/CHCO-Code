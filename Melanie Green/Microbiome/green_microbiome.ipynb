{
 "cells": [
  {
   "cell_type": "code",
   "execution_count": 1,
   "metadata": {},
   "outputs": [],
   "source": [
    "# Import libraries\n",
    "from qiime2 import Visualization"
   ]
  },
  {
   "cell_type": "markdown",
   "metadata": {},
   "source": [
    "# Data Import and Quality"
   ]
  },
  {
   "cell_type": "raw",
   "metadata": {},
   "source": [
    "%%bash\n",
    "cd /Volumes/som/PEDS/RI\\ Biostatistics\\ Core/Shared/Shared\\ Projects/Laura/Laura\\ Tim\\ projects/Melanie\\ Green/Microbiome/Data_Cleaned\n",
    "\n",
    "# Import sample data to QIIME format\n",
    "qiime tools import \\\n",
    "  --type 'SampleData[PairedEndSequencesWithQuality]' \\\n",
    "  --input-path manifest.txt \\\n",
    "  --input-format PairedEndFastqManifestPhred33V2 \\\n",
    "  --output-path demux.qza \n",
    "\n",
    "# Summarize quality\n",
    "qiime demux summarize \\\n",
    "  --i-data demux.qza \\\n",
    "  --o-visualization demux.qzv"
   ]
  },
  {
   "cell_type": "code",
   "execution_count": 2,
   "metadata": {},
   "outputs": [
    {
     "data": {
      "text/html": [
       "<div><img onload=\"(function(div, url){\n",
       "if (typeof require !== 'undefined') {\n",
       "    var baseURL = require.toUrl('').split('/').slice(0, -2).join('/');\n",
       "} else {\n",
       "    var baseURL = JSON.parse(\n",
       "        document.getElementById('jupyter-config-data').innerHTML\n",
       "    ).baseUrl.slice(0, -1);\n",
       "}\n",
       "url = baseURL + url;\n",
       "fetch(url).then(function(res) {\n",
       "    if (res.status === 404) {\n",
       "        div.innerHTML = 'Install QIIME 2 Jupyter extension with:<br />' +\n",
       "                        '<code>jupyter serverextension enable --py qiime2' +\n",
       "                        ' --sys-prefix</code><br />then restart your server.' +\n",
       "                        '<br /><br />(Interactive output not available on ' +\n",
       "                        'static notebook viewer services like nbviewer.)';\n",
       "    } else if (res.status === 409) {\n",
       "        div.innerHTML = 'Visualization no longer in scope. Re-run this cell' +\n",
       "                        ' to see the visualization.';\n",
       "    } else if (res.ok) {\n",
       "        url = res.url;\n",
       "        div.innerHTML = '<iframe src=\\'' + url + '\\' style=\\'' +\n",
       "                        'width: 100%; height: 700px; border: 0;\\'>' +\n",
       "                        '</iframe><hr />Open in a: <a href=\\'' + url + '\\'' +\n",
       "                        ' target=\\'_blank\\'>new window</a>'\n",
       "    } else {\n",
       "        div.innerHTML = 'Something has gone wrong. Check notebook server for' +\n",
       "                        ' errors.';\n",
       "    }\n",
       "});\n",
       "})(this.parentElement, '/qiime2/redirect?location=/var/folders/r_/s3pmd7852m10bf8tpy0xbm_40000gn/T/qiime2-archive-0qf6v75y')\" src=\"data:image/gif;base64,R0lGODlhAQABAIAAAP///wAAACH5BAEAAAAALAAAAAABAAEAAAICRAEAOw==\" /></div>"
      ],
      "text/plain": [
       "<visualization: Visualization uuid: 545fd55b-0b7a-400d-9664-55594f8b3942>"
      ]
     },
     "execution_count": 2,
     "metadata": {},
     "output_type": "execute_result"
    }
   ],
   "source": [
    "read_quality = Visualization.load(\"/Volumes/som/PEDS/RI Biostatistics Core/Shared/Shared Projects/Laura/Laura Tim projects/Melanie Green/Microbiome/Data_Cleaned/demux.qzv\")\n",
    "read_quality"
   ]
  },
  {
   "cell_type": "markdown",
   "metadata": {},
   "source": [
    "# Denoised"
   ]
  },
  {
   "cell_type": "raw",
   "metadata": {},
   "source": [
    "%%bash\n",
    "cd /Volumes/som/PEDS/RI\\ Biostatistics\\ Core/Shared/Shared\\ Projects/Laura/Laura\\ Tim\\ projects/Melanie\\ Green/Microbiome/Data_Cleaned\n",
    "\n",
    "# De-noise with DADA2 - tried several different lengths, 240 was best.\n",
    "qiime dada2 denoise-paired \\\n",
    "  --i-demultiplexed-seqs demux.qza \\\n",
    "  --p-trunc-len-f 240 \\\n",
    "  --p-trunc-len-r 240 \\\n",
    "  --o-table denoised/table240.qza \\\n",
    "  --o-representative-sequences denoised/rep-seqs240.qza \\\n",
    "  --o-denoising-stats denoised/denoising-stats240.qza \\\n",
    "  --p-n-threads 0 \\\n",
    "  --verbose\n",
    "\n",
    "# Visualize\n",
    "qiime metadata tabulate \\\n",
    "  --m-input-file denoised/denoising-stats240.qza \\\n",
    "  --o-visualization denoised/stats-dada240.qzv"
   ]
  },
  {
   "cell_type": "code",
   "execution_count": 3,
   "metadata": {},
   "outputs": [
    {
     "data": {
      "text/html": [
       "<div><img onload=\"(function(div, url){\n",
       "if (typeof require !== 'undefined') {\n",
       "    var baseURL = require.toUrl('').split('/').slice(0, -2).join('/');\n",
       "} else {\n",
       "    var baseURL = JSON.parse(\n",
       "        document.getElementById('jupyter-config-data').innerHTML\n",
       "    ).baseUrl.slice(0, -1);\n",
       "}\n",
       "url = baseURL + url;\n",
       "fetch(url).then(function(res) {\n",
       "    if (res.status === 404) {\n",
       "        div.innerHTML = 'Install QIIME 2 Jupyter extension with:<br />' +\n",
       "                        '<code>jupyter serverextension enable --py qiime2' +\n",
       "                        ' --sys-prefix</code><br />then restart your server.' +\n",
       "                        '<br /><br />(Interactive output not available on ' +\n",
       "                        'static notebook viewer services like nbviewer.)';\n",
       "    } else if (res.status === 409) {\n",
       "        div.innerHTML = 'Visualization no longer in scope. Re-run this cell' +\n",
       "                        ' to see the visualization.';\n",
       "    } else if (res.ok) {\n",
       "        url = res.url;\n",
       "        div.innerHTML = '<iframe src=\\'' + url + '\\' style=\\'' +\n",
       "                        'width: 100%; height: 700px; border: 0;\\'>' +\n",
       "                        '</iframe><hr />Open in a: <a href=\\'' + url + '\\'' +\n",
       "                        ' target=\\'_blank\\'>new window</a>'\n",
       "    } else {\n",
       "        div.innerHTML = 'Something has gone wrong. Check notebook server for' +\n",
       "                        ' errors.';\n",
       "    }\n",
       "});\n",
       "})(this.parentElement, '/qiime2/redirect?location=/var/folders/r_/s3pmd7852m10bf8tpy0xbm_40000gn/T/qiime2-archive-kadtt55z')\" src=\"data:image/gif;base64,R0lGODlhAQABAIAAAP///wAAACH5BAEAAAAALAAAAAABAAEAAAICRAEAOw==\" /></div>"
      ],
      "text/plain": [
       "<visualization: Visualization uuid: 8cb25531-5e4b-4683-9aa1-e331e423ada7>"
      ]
     },
     "execution_count": 3,
     "metadata": {},
     "output_type": "execute_result"
    }
   ],
   "source": [
    "dada_stats = Visualization.load(\"/Volumes/som/PEDS/RI Biostatistics Core/Shared/Shared Projects/Laura/Laura Tim projects/Melanie Green/Microbiome/Data_Cleaned/denoised/stats-dada240.qzv\")\n",
    "dada_stats"
   ]
  },
  {
   "cell_type": "markdown",
   "metadata": {},
   "source": [
    "# Filtered Feature Tables"
   ]
  },
  {
   "cell_type": "raw",
   "metadata": {},
   "source": [
    "%%bash\n",
    "cd /Volumes/som/PEDS/RI\\ Biostatistics\\ Core/Shared/Shared\\ Projects/Laura/Laura\\ Tim\\ projects/Melanie\\ Green/Microbiome/Data_Cleaned\n",
    "\n",
    "# Remove samples with no metadata\n",
    "qiime feature-table filter-samples \\\n",
    "  --i-table denoised/table240.qza \\\n",
    "  --m-metadata-file clinical.txt \\\n",
    "  --o-filtered-table filtered/table240.qza\n",
    "\n",
    "# Feature tables\n",
    "qiime feature-table summarize \\\n",
    "  --i-table filtered/table240.qza \\\n",
    "  --o-visualization feature_tables/table240.qzv \\\n",
    "  --m-sample-metadata-file clinical.txt\n",
    "\n",
    "qiime feature-table tabulate-seqs \\\n",
    "  --i-data denoised/rep-seqs240.qza \\\n",
    "  --o-visualization denoised/rep-seqs240.qzv"
   ]
  },
  {
   "cell_type": "code",
   "execution_count": 4,
   "metadata": {},
   "outputs": [
    {
     "data": {
      "text/html": [
       "<div><img onload=\"(function(div, url){\n",
       "if (typeof require !== 'undefined') {\n",
       "    var baseURL = require.toUrl('').split('/').slice(0, -2).join('/');\n",
       "} else {\n",
       "    var baseURL = JSON.parse(\n",
       "        document.getElementById('jupyter-config-data').innerHTML\n",
       "    ).baseUrl.slice(0, -1);\n",
       "}\n",
       "url = baseURL + url;\n",
       "fetch(url).then(function(res) {\n",
       "    if (res.status === 404) {\n",
       "        div.innerHTML = 'Install QIIME 2 Jupyter extension with:<br />' +\n",
       "                        '<code>jupyter serverextension enable --py qiime2' +\n",
       "                        ' --sys-prefix</code><br />then restart your server.' +\n",
       "                        '<br /><br />(Interactive output not available on ' +\n",
       "                        'static notebook viewer services like nbviewer.)';\n",
       "    } else if (res.status === 409) {\n",
       "        div.innerHTML = 'Visualization no longer in scope. Re-run this cell' +\n",
       "                        ' to see the visualization.';\n",
       "    } else if (res.ok) {\n",
       "        url = res.url;\n",
       "        div.innerHTML = '<iframe src=\\'' + url + '\\' style=\\'' +\n",
       "                        'width: 100%; height: 700px; border: 0;\\'>' +\n",
       "                        '</iframe><hr />Open in a: <a href=\\'' + url + '\\'' +\n",
       "                        ' target=\\'_blank\\'>new window</a>'\n",
       "    } else {\n",
       "        div.innerHTML = 'Something has gone wrong. Check notebook server for' +\n",
       "                        ' errors.';\n",
       "    }\n",
       "});\n",
       "})(this.parentElement, '/qiime2/redirect?location=/var/folders/r_/s3pmd7852m10bf8tpy0xbm_40000gn/T/qiime2-archive-djvgl1nh')\" src=\"data:image/gif;base64,R0lGODlhAQABAIAAAP///wAAACH5BAEAAAAALAAAAAABAAEAAAICRAEAOw==\" /></div>"
      ],
      "text/plain": [
       "<visualization: Visualization uuid: dd2a267a-2946-4507-873b-93eecc2ac924>"
      ]
     },
     "execution_count": 4,
     "metadata": {},
     "output_type": "execute_result"
    }
   ],
   "source": [
    "feature_table = Visualization.load(\"/Volumes/som/PEDS/RI Biostatistics Core/Shared/Shared Projects/Laura/Laura Tim projects/Melanie Green/Microbiome/Data_Cleaned/feature_tables/table240.qzv\")\n",
    "feature_table"
   ]
  },
  {
   "cell_type": "code",
   "execution_count": 5,
   "metadata": {},
   "outputs": [
    {
     "data": {
      "text/html": [
       "<div><img onload=\"(function(div, url){\n",
       "if (typeof require !== 'undefined') {\n",
       "    var baseURL = require.toUrl('').split('/').slice(0, -2).join('/');\n",
       "} else {\n",
       "    var baseURL = JSON.parse(\n",
       "        document.getElementById('jupyter-config-data').innerHTML\n",
       "    ).baseUrl.slice(0, -1);\n",
       "}\n",
       "url = baseURL + url;\n",
       "fetch(url).then(function(res) {\n",
       "    if (res.status === 404) {\n",
       "        div.innerHTML = 'Install QIIME 2 Jupyter extension with:<br />' +\n",
       "                        '<code>jupyter serverextension enable --py qiime2' +\n",
       "                        ' --sys-prefix</code><br />then restart your server.' +\n",
       "                        '<br /><br />(Interactive output not available on ' +\n",
       "                        'static notebook viewer services like nbviewer.)';\n",
       "    } else if (res.status === 409) {\n",
       "        div.innerHTML = 'Visualization no longer in scope. Re-run this cell' +\n",
       "                        ' to see the visualization.';\n",
       "    } else if (res.ok) {\n",
       "        url = res.url;\n",
       "        div.innerHTML = '<iframe src=\\'' + url + '\\' style=\\'' +\n",
       "                        'width: 100%; height: 700px; border: 0;\\'>' +\n",
       "                        '</iframe><hr />Open in a: <a href=\\'' + url + '\\'' +\n",
       "                        ' target=\\'_blank\\'>new window</a>'\n",
       "    } else {\n",
       "        div.innerHTML = 'Something has gone wrong. Check notebook server for' +\n",
       "                        ' errors.';\n",
       "    }\n",
       "});\n",
       "})(this.parentElement, '/qiime2/redirect?location=/var/folders/r_/s3pmd7852m10bf8tpy0xbm_40000gn/T/qiime2-archive-cqhfoea4')\" src=\"data:image/gif;base64,R0lGODlhAQABAIAAAP///wAAACH5BAEAAAAALAAAAAABAAEAAAICRAEAOw==\" /></div>"
      ],
      "text/plain": [
       "<visualization: Visualization uuid: b80debcc-c0f4-46b9-92db-e9c8f4a0fd56>"
      ]
     },
     "execution_count": 5,
     "metadata": {},
     "output_type": "execute_result"
    }
   ],
   "source": [
    "rep_seqs = Visualization.load(\"/Volumes/som/PEDS/RI Biostatistics Core/Shared/Shared Projects/Laura/Laura Tim projects/Melanie Green/Microbiome/Data_Cleaned/denoised/rep-seqs240.qzv\")\n",
    "rep_seqs"
   ]
  },
  {
   "cell_type": "markdown",
   "metadata": {},
   "source": [
    "# Phylogenetic Trees"
   ]
  },
  {
   "cell_type": "raw",
   "metadata": {},
   "source": [
    "%%bash\n",
    "cd /Volumes/som/PEDS/RI\\ Biostatistics\\ Core/Shared/Shared\\ Projects/Laura/Laura\\ Tim\\ projects/Melanie\\ Green/Microbiome/Data_Cleaned\n",
    "\n",
    "# Phylogenetic tree\n",
    "qiime phylogeny align-to-tree-mafft-fasttree \\\n",
    "  --i-sequences denoised/rep-seqs240.qza \\\n",
    "  --o-alignment alignment/aligned-rep-seqs.qza \\\n",
    "  --o-masked-alignment alignment/masked-aligned-rep-seqs.qza \\\n",
    "  --o-tree trees/unrooted-tree.qza \\\n",
    "  --o-rooted-tree trees/rooted-tree.qza"
   ]
  },
  {
   "cell_type": "markdown",
   "metadata": {},
   "source": [
    "# Diversity Analysis"
   ]
  },
  {
   "cell_type": "raw",
   "metadata": {},
   "source": [
    "%%bash\n",
    "cd /Volumes/som/PEDS/RI\\ Biostatistics\\ Core/Shared/Shared\\ Projects/Laura/Laura\\ Tim\\ projects/Melanie\\ Green/Microbiome/Data_Cleaned\n",
    "\n",
    "# Diversity analysis - not normalized\n",
    "qiime diversity core-metrics-phylogenetic \\\n",
    "  --i-phylogeny trees/rooted-tree.qza \\\n",
    "  --i-table filtered/table240.qza \\\n",
    "  --p-sampling-depth 3059 \\\n",
    "  --m-metadata-file clinical.txt \\\n",
    "  --output-dir core-metrics-results-original\n",
    "\n",
    "# A sampling depth of 3059 was chosen based on the number of sequences in the\n",
    "# PCOS63 sample because it’s close to the number of sequences in the next few samples\n",
    "# that have higher sequence counts, and because it is considerably higher (relatively)\n",
    "# than the number of sequences in the samples that have fewer sequences\n",
    "\n",
    "# Alpha diversity\n",
    "qiime diversity alpha-group-significance \\\n",
    "  --i-alpha-diversity core-metrics-results-original/faith_pd_vector.qza \\\n",
    "  --m-metadata-file clinical.txt \\\n",
    "  --o-visualization core-metrics-results-original/faith-pd-group-significance.qzv\n",
    "\n",
    "qiime diversity alpha-group-significance \\\n",
    "  --i-alpha-diversity core-metrics-results-original/evenness_vector.qza \\\n",
    "  --m-metadata-file clinical.txt \\\n",
    "  --o-visualization core-metrics-results-original/evenness-group-significance.qzv\n",
    "\n",
    "# Beta Diversity\n",
    "qiime diversity beta-group-significance \\\n",
    "  --i-distance-matrix core-metrics-results-original/unweighted_unifrac_distance_matrix.qza \\\n",
    "  --m-metadata-file clinical.txt \\\n",
    "  --m-metadata-column SEQRun \\\n",
    "  --o-visualization core-metrics-results-original/unweighted-unifrac-seq-run-significance.qzv \\\n",
    "  --p-pairwise"
   ]
  },
  {
   "cell_type": "markdown",
   "metadata": {},
   "source": [
    "## Unweighted UniFrac"
   ]
  },
  {
   "cell_type": "code",
   "execution_count": 3,
   "metadata": {},
   "outputs": [
    {
     "data": {
      "text/html": [
       "<div><img onload=\"(function(div, url){\n",
       "if (typeof require !== 'undefined') {\n",
       "    var baseURL = require.toUrl('').split('/').slice(0, -2).join('/');\n",
       "} else {\n",
       "    var baseURL = JSON.parse(\n",
       "        document.getElementById('jupyter-config-data').innerHTML\n",
       "    ).baseUrl.slice(0, -1);\n",
       "}\n",
       "url = baseURL + url;\n",
       "fetch(url).then(function(res) {\n",
       "    if (res.status === 404) {\n",
       "        div.innerHTML = 'Install QIIME 2 Jupyter extension with:<br />' +\n",
       "                        '<code>jupyter serverextension enable --py qiime2' +\n",
       "                        ' --sys-prefix</code><br />then restart your server.' +\n",
       "                        '<br /><br />(Interactive output not available on ' +\n",
       "                        'static notebook viewer services like nbviewer.)';\n",
       "    } else if (res.status === 409) {\n",
       "        div.innerHTML = 'Visualization no longer in scope. Re-run this cell' +\n",
       "                        ' to see the visualization.';\n",
       "    } else if (res.ok) {\n",
       "        url = res.url;\n",
       "        div.innerHTML = '<iframe src=\\'' + url + '\\' style=\\'' +\n",
       "                        'width: 100%; height: 700px; border: 0;\\'>' +\n",
       "                        '</iframe><hr />Open in a: <a href=\\'' + url + '\\'' +\n",
       "                        ' target=\\'_blank\\'>new window</a>'\n",
       "    } else {\n",
       "        div.innerHTML = 'Something has gone wrong. Check notebook server for' +\n",
       "                        ' errors.';\n",
       "    }\n",
       "});\n",
       "})(this.parentElement, '/qiime2/redirect?location=/var/folders/r_/s3pmd7852m10bf8tpy0xbm_40000gn/T/qiime2-archive-xzm4arj9')\" src=\"data:image/gif;base64,R0lGODlhAQABAIAAAP///wAAACH5BAEAAAAALAAAAAABAAEAAAICRAEAOw==\" /></div>"
      ],
      "text/plain": [
       "<visualization: Visualization uuid: e0e6840d-8004-4b01-9ff1-310a32903297>"
      ]
     },
     "execution_count": 3,
     "metadata": {},
     "output_type": "execute_result"
    }
   ],
   "source": [
    "unweighted_unifrac = Visualization.load(\"/Volumes/som/PEDS/RI Biostatistics Core/Shared/Shared Projects/Laura/Laura Tim projects/Melanie Green/Microbiome/Data_Cleaned/core-metrics-results-original/unweighted_unifrac_emperor.qzv\")\n",
    "unweighted_unifrac"
   ]
  },
  {
   "cell_type": "markdown",
   "metadata": {},
   "source": [
    "## Evenness (Group Significance)"
   ]
  },
  {
   "cell_type": "code",
   "execution_count": 8,
   "metadata": {},
   "outputs": [
    {
     "data": {
      "text/html": [
       "<div><img onload=\"(function(div, url){\n",
       "if (typeof require !== 'undefined') {\n",
       "    var baseURL = require.toUrl('').split('/').slice(0, -2).join('/');\n",
       "} else {\n",
       "    var baseURL = JSON.parse(\n",
       "        document.getElementById('jupyter-config-data').innerHTML\n",
       "    ).baseUrl.slice(0, -1);\n",
       "}\n",
       "url = baseURL + url;\n",
       "fetch(url).then(function(res) {\n",
       "    if (res.status === 404) {\n",
       "        div.innerHTML = 'Install QIIME 2 Jupyter extension with:<br />' +\n",
       "                        '<code>jupyter serverextension enable --py qiime2' +\n",
       "                        ' --sys-prefix</code><br />then restart your server.' +\n",
       "                        '<br /><br />(Interactive output not available on ' +\n",
       "                        'static notebook viewer services like nbviewer.)';\n",
       "    } else if (res.status === 409) {\n",
       "        div.innerHTML = 'Visualization no longer in scope. Re-run this cell' +\n",
       "                        ' to see the visualization.';\n",
       "    } else if (res.ok) {\n",
       "        url = res.url;\n",
       "        div.innerHTML = '<iframe src=\\'' + url + '\\' style=\\'' +\n",
       "                        'width: 100%; height: 700px; border: 0;\\'>' +\n",
       "                        '</iframe><hr />Open in a: <a href=\\'' + url + '\\'' +\n",
       "                        ' target=\\'_blank\\'>new window</a>'\n",
       "    } else {\n",
       "        div.innerHTML = 'Something has gone wrong. Check notebook server for' +\n",
       "                        ' errors.';\n",
       "    }\n",
       "});\n",
       "})(this.parentElement, '/qiime2/redirect?location=/var/folders/r_/s3pmd7852m10bf8tpy0xbm_40000gn/T/qiime2-archive-2yfpw5zj')\" src=\"data:image/gif;base64,R0lGODlhAQABAIAAAP///wAAACH5BAEAAAAALAAAAAABAAEAAAICRAEAOw==\" /></div>"
      ],
      "text/plain": [
       "<visualization: Visualization uuid: 8befb186-6dea-4ef1-8abd-6cb6819f6937>"
      ]
     },
     "execution_count": 8,
     "metadata": {},
     "output_type": "execute_result"
    }
   ],
   "source": [
    "evenness_group = Visualization.load(\"/Volumes/som/PEDS/RI Biostatistics Core/Shared/Shared Projects/Laura/Laura Tim projects/Melanie Green/Microbiome/Data_Cleaned/core-metrics-results-original/evenness-group-significance.qzv\")\n",
    "evenness_group"
   ]
  },
  {
   "cell_type": "markdown",
   "metadata": {},
   "source": [
    "## Faith (Group Significance)"
   ]
  },
  {
   "cell_type": "code",
   "execution_count": 6,
   "metadata": {},
   "outputs": [
    {
     "data": {
      "text/html": [
       "<div><img onload=\"(function(div, url){\n",
       "if (typeof require !== 'undefined') {\n",
       "    var baseURL = require.toUrl('').split('/').slice(0, -2).join('/');\n",
       "} else {\n",
       "    var baseURL = JSON.parse(\n",
       "        document.getElementById('jupyter-config-data').innerHTML\n",
       "    ).baseUrl.slice(0, -1);\n",
       "}\n",
       "url = baseURL + url;\n",
       "fetch(url).then(function(res) {\n",
       "    if (res.status === 404) {\n",
       "        div.innerHTML = 'Install QIIME 2 Jupyter extension with:<br />' +\n",
       "                        '<code>jupyter serverextension enable --py qiime2' +\n",
       "                        ' --sys-prefix</code><br />then restart your server.' +\n",
       "                        '<br /><br />(Interactive output not available on ' +\n",
       "                        'static notebook viewer services like nbviewer.)';\n",
       "    } else if (res.status === 409) {\n",
       "        div.innerHTML = 'Visualization no longer in scope. Re-run this cell' +\n",
       "                        ' to see the visualization.';\n",
       "    } else if (res.ok) {\n",
       "        url = res.url;\n",
       "        div.innerHTML = '<iframe src=\\'' + url + '\\' style=\\'' +\n",
       "                        'width: 100%; height: 700px; border: 0;\\'>' +\n",
       "                        '</iframe><hr />Open in a: <a href=\\'' + url + '\\'' +\n",
       "                        ' target=\\'_blank\\'>new window</a>'\n",
       "    } else {\n",
       "        div.innerHTML = 'Something has gone wrong. Check notebook server for' +\n",
       "                        ' errors.';\n",
       "    }\n",
       "});\n",
       "})(this.parentElement, '/qiime2/redirect?location=/var/folders/r_/s3pmd7852m10bf8tpy0xbm_40000gn/T/qiime2-archive-d1y0jc28')\" src=\"data:image/gif;base64,R0lGODlhAQABAIAAAP///wAAACH5BAEAAAAALAAAAAABAAEAAAICRAEAOw==\" /></div>"
      ],
      "text/plain": [
       "<visualization: Visualization uuid: d18140e2-3938-4c2e-9f39-bd9aa5c912b8>"
      ]
     },
     "execution_count": 6,
     "metadata": {},
     "output_type": "execute_result"
    }
   ],
   "source": [
    "faith_group = Visualization.load(\"/Volumes/som/PEDS/RI Biostatistics Core/Shared/Shared Projects/Laura/Laura Tim projects/Melanie Green/Microbiome/Data_Cleaned/core-metrics-results-original/faith-pd-group-significance.qzv\")\n",
    "faith_group"
   ]
  },
  {
   "cell_type": "markdown",
   "metadata": {},
   "source": [
    "## Unweighted UniFrac by Sequencing Run"
   ]
  },
  {
   "cell_type": "code",
   "execution_count": 2,
   "metadata": {},
   "outputs": [
    {
     "data": {
      "text/html": [
       "<div><img onload=\"(function(div, url){\n",
       "if (typeof require !== 'undefined') {\n",
       "    var baseURL = require.toUrl('').split('/').slice(0, -2).join('/');\n",
       "} else {\n",
       "    var baseURL = JSON.parse(\n",
       "        document.getElementById('jupyter-config-data').innerHTML\n",
       "    ).baseUrl.slice(0, -1);\n",
       "}\n",
       "url = baseURL + url;\n",
       "fetch(url).then(function(res) {\n",
       "    if (res.status === 404) {\n",
       "        div.innerHTML = 'Install QIIME 2 Jupyter extension with:<br />' +\n",
       "                        '<code>jupyter serverextension enable --py qiime2' +\n",
       "                        ' --sys-prefix</code><br />then restart your server.' +\n",
       "                        '<br /><br />(Interactive output not available on ' +\n",
       "                        'static notebook viewer services like nbviewer.)';\n",
       "    } else if (res.status === 409) {\n",
       "        div.innerHTML = 'Visualization no longer in scope. Re-run this cell' +\n",
       "                        ' to see the visualization.';\n",
       "    } else if (res.ok) {\n",
       "        url = res.url;\n",
       "        div.innerHTML = '<iframe src=\\'' + url + '\\' style=\\'' +\n",
       "                        'width: 100%; height: 700px; border: 0;\\'>' +\n",
       "                        '</iframe><hr />Open in a: <a href=\\'' + url + '\\'' +\n",
       "                        ' target=\\'_blank\\'>new window</a>'\n",
       "    } else {\n",
       "        div.innerHTML = 'Something has gone wrong. Check notebook server for' +\n",
       "                        ' errors.';\n",
       "    }\n",
       "});\n",
       "})(this.parentElement, '/qiime2/redirect?location=/var/folders/r_/s3pmd7852m10bf8tpy0xbm_40000gn/T/qiime2-archive-_pwnu8ng')\" src=\"data:image/gif;base64,R0lGODlhAQABAIAAAP///wAAACH5BAEAAAAALAAAAAABAAEAAAICRAEAOw==\" /></div>"
      ],
      "text/plain": [
       "<visualization: Visualization uuid: 1e354c15-8da5-47fc-8656-8e81390fc63d>"
      ]
     },
     "execution_count": 2,
     "metadata": {},
     "output_type": "execute_result"
    }
   ],
   "source": [
    "unweighted_unifrac_seq = Visualization.load(\"/Volumes/som/PEDS/RI Biostatistics Core/Shared/Shared Projects/Laura/Laura Tim projects/Melanie Green/Microbiome/Data_Cleaned/core-metrics-results-original/unweighted-unifrac-seq-run-significance.qzv\")\n",
    "unweighted_unifrac_seq"
   ]
  },
  {
   "cell_type": "markdown",
   "metadata": {},
   "source": [
    "# Taxa"
   ]
  },
  {
   "cell_type": "raw",
   "metadata": {},
   "source": [
    "%%bash\n",
    "cd /Volumes/som/PEDS/RI\\ Biostatistics\\ Core/Shared/Shared\\ Projects/Laura/Laura\\ Tim\\ projects/Melanie\\ Green/Microbiome/Data_Cleaned\n",
    "\n",
    "# Feature classifier\n",
    "qiime feature-classifier classify-sklearn \\\n",
    "    --i-reads denoised/rep-seqs240.qza \\\n",
    "    --i-classifier /Volumes/som/PEDS/RI\\ Biostatistics\\ Core/Shared/Shared\\ Projects/Laura/Laura\\ Tim\\ projects/General\\ Microbiome/silva-132-99-nb-classifier.qza \\\n",
    "    --o-classification taxa/taxa.qza\n",
    "\n",
    "# Taxa barplot\n",
    "qiime taxa barplot \\\n",
    "    --i-table filtered/table240.qza \\\n",
    "    --i-taxonomy taxa/taxa.qza \\\n",
    "    --m-metadata-file clinical.txt \\\n",
    "    --o-visualization taxa/taxa_barplot.qzv"
   ]
  },
  {
   "cell_type": "code",
   "execution_count": 7,
   "metadata": {},
   "outputs": [
    {
     "data": {
      "text/html": [
       "<div><img onload=\"(function(div, url){\n",
       "if (typeof require !== 'undefined') {\n",
       "    var baseURL = require.toUrl('').split('/').slice(0, -2).join('/');\n",
       "} else {\n",
       "    var baseURL = JSON.parse(\n",
       "        document.getElementById('jupyter-config-data').innerHTML\n",
       "    ).baseUrl.slice(0, -1);\n",
       "}\n",
       "url = baseURL + url;\n",
       "fetch(url).then(function(res) {\n",
       "    if (res.status === 404) {\n",
       "        div.innerHTML = 'Install QIIME 2 Jupyter extension with:<br />' +\n",
       "                        '<code>jupyter serverextension enable --py qiime2' +\n",
       "                        ' --sys-prefix</code><br />then restart your server.' +\n",
       "                        '<br /><br />(Interactive output not available on ' +\n",
       "                        'static notebook viewer services like nbviewer.)';\n",
       "    } else if (res.status === 409) {\n",
       "        div.innerHTML = 'Visualization no longer in scope. Re-run this cell' +\n",
       "                        ' to see the visualization.';\n",
       "    } else if (res.ok) {\n",
       "        url = res.url;\n",
       "        div.innerHTML = '<iframe src=\\'' + url + '\\' style=\\'' +\n",
       "                        'width: 100%; height: 700px; border: 0;\\'>' +\n",
       "                        '</iframe><hr />Open in a: <a href=\\'' + url + '\\'' +\n",
       "                        ' target=\\'_blank\\'>new window</a>'\n",
       "    } else {\n",
       "        div.innerHTML = 'Something has gone wrong. Check notebook server for' +\n",
       "                        ' errors.';\n",
       "    }\n",
       "});\n",
       "})(this.parentElement, '/qiime2/redirect?location=/var/folders/r_/s3pmd7852m10bf8tpy0xbm_40000gn/T/qiime2-archive-mhhlhef4')\" src=\"data:image/gif;base64,R0lGODlhAQABAIAAAP///wAAACH5BAEAAAAALAAAAAABAAEAAAICRAEAOw==\" /></div>"
      ],
      "text/plain": [
       "<visualization: Visualization uuid: 9a7eb82e-0ae3-49fa-bab4-1279ea00336d>"
      ]
     },
     "execution_count": 7,
     "metadata": {},
     "output_type": "execute_result"
    }
   ],
   "source": [
    "taxa_barplot = Visualization.load(\"/Volumes/som/PEDS/RI Biostatistics Core/Shared/Shared Projects/Laura/Laura Tim projects/Melanie Green/Microbiome/Data_Cleaned/taxa/taxa_barplot.qzv\")\n",
    "taxa_barplot"
   ]
  },
  {
   "cell_type": "markdown",
   "metadata": {},
   "source": [
    "# Relative Frequency"
   ]
  },
  {
   "cell_type": "raw",
   "metadata": {},
   "source": [
    "%%bash\n",
    "cd /Volumes/som/PEDS/RI\\ Biostatistics\\ Core/Shared/Shared\\ Projects/Laura/Laura\\ Tim\\ projects/Melanie\\ Green/Microbiome/Data_Cleaned\n",
    "\n",
    "# Relative frequency table\n",
    "qiime feature-table relative-frequency \\\n",
    "    --i-table filtered/table240.qza \\\n",
    "    --o-relative-frequency-table relative.qza"
   ]
  },
  {
   "cell_type": "markdown",
   "metadata": {},
   "source": [
    "# Analysis"
   ]
  },
  {
   "cell_type": "code",
   "execution_count": 10,
   "metadata": {},
   "outputs": [
    {
     "name": "stdout",
     "output_type": "stream",
     "text": [
      "Saved Hierarchy to: analysis/hierarchy.qza\n",
      "Saved FeatureTable[Balance] to: analysis/balances.qza\n",
      "Saved Visualization to: analysis/regression_summary.qzv\n"
     ]
    }
   ],
   "source": [
    "%%bash\n",
    "cd /Volumes/som/PEDS/RI\\ Biostatistics\\ Core/Shared/Shared\\ Projects/Laura/Laura\\ Tim\\ projects/Melanie\\ Green/Microbiome/Data_Cleaned\n",
    "\n",
    "# Compositional analysis\n",
    "# Correlation-clustering\n",
    "qiime gneiss correlation-clustering \\\n",
    "  --i-table filtered/table240.qza \\\n",
    "  --o-clustering analysis/hierarchy.qza\n",
    "# ILR transform\n",
    "qiime gneiss ilr-hierarchical \\\n",
    "  --i-table filtered/table240.qza \\\n",
    "  --i-tree analysis/hierarchy.qza \\\n",
    "  --o-balances analysis/balances.qza\n",
    "# Linear model\n",
    "qiime gneiss ols-regression \\\n",
    "  --p-formula \"Group+SEQRun\" \\\n",
    "  --i-table analysis/balances.qza \\\n",
    "  --i-tree analysis/hierarchy.qza \\\n",
    "  --m-metadata-file clinical.txt \\\n",
    "  --o-visualization analysis/regression_summary.qzv"
   ]
  },
  {
   "cell_type": "code",
   "execution_count": null,
   "metadata": {},
   "outputs": [],
   "source": [
    "regression = Visualization.load(\"/Volumes/som/PEDS/RI Biostatistics Core/Shared/Shared Projects/Laura/Laura Tim projects/Melanie Green/Microbiome/Data_Cleaned/analysis/regression_summary.qzv\")\n",
    "regression"
   ]
  },
  {
   "cell_type": "code",
   "execution_count": null,
   "metadata": {},
   "outputs": [],
   "source": []
  }
 ],
 "metadata": {
  "celltoolbar": "Raw Cell Format",
  "kernelspec": {
   "display_name": "Python 3",
   "language": "python",
   "name": "python3"
  },
  "language_info": {
   "codemirror_mode": {
    "name": "ipython",
    "version": 3
   },
   "file_extension": ".py",
   "mimetype": "text/x-python",
   "name": "python",
   "nbconvert_exporter": "python",
   "pygments_lexer": "ipython3",
   "version": "3.6.7"
  }
 },
 "nbformat": 4,
 "nbformat_minor": 2
}
